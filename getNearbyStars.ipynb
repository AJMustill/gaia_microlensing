{
 "cells": [
  {
   "cell_type": "code",
   "execution_count": null,
   "metadata": {},
   "outputs": [],
   "source": [
    "# getNearbyStars.ipynb\n",
    "#\n",
    "# Author: Alexander J Mustill, 2018\n",
    "# Lund Observatory, Department of Astronomy & Theoretical Physics, \n",
    "# Lund University, Box 43, SE-221 00 Lund, Sweden\n",
    "#\n",
    "# If you make use of this code, please cite Mustill, Davies & Lindegren (2018, A&A submitted).\n",
    "#\n",
    "# Please direct any queries to Alexander Mustill, alex@astro.lu.se\n",
    "#\n",
    "# This is a simple script to query the Gaia DR2 archive for stars within 100pc. \n",
    "# To avoid the risk of the connexion being lost during a long query, the sky is \n",
    "# divided into 360 sectors of 1 degree RA and a separate query executed for each, \n",
    "# the results being saved into files 100pc_nnn.vot"
   ]
  },
  {
   "cell_type": "code",
   "execution_count": 1,
   "metadata": {},
   "outputs": [
    {
     "name": "stdout",
     "output_type": "stream",
     "text": [
      "Created TAP+ (v1.0.1) - Connection:\n",
      "\tHost: gea.esac.esa.int\n",
      "\tUse HTTPS: False\n",
      "\tPort: 80\n",
      "\tSSL Port: 443\n"
     ]
    }
   ],
   "source": [
    "import datetime\n",
    "\n",
    "import astropy.units as u\n",
    "from astropy.coordinates.sky_coordinate import SkyCoord\n",
    "from astropy.units import Quantity\n",
    "from astropy.io.votable import parse_single_table\n",
    "\n",
    "from gaiaDR2 import Gaia"
   ]
  },
  {
   "cell_type": "code",
   "execution_count": 5,
   "metadata": {},
   "outputs": [
    {
     "name": "stdout",
     "output_type": "stream",
     "text": [
      "Launched query: 'SELECT *     FROM gaiadr2.gaia_source     WHERE parallax >= 10 AND ra >= 294 AND ra < 295;'\n",
      "Retrieving async. results...\n",
      "Jobid: 1524675035489O\n",
      "Phase: None\n",
      "Owner: None\n",
      "Output file: 100pc_294.vot\n",
      "Results: None\n",
      "Time elapsed:  0:00:14.053775\n"
     ]
    }
   ],
   "source": [
    "t1 = datetime.datetime.now()\n",
    "\n",
    "# I keep getting corrupted files if I query the whole dataset: have to go in melon slices\n",
    "\n",
    "for i in range(360)[294:295]:\n",
    "\n",
    "    job = Gaia.launch_job_async(\"SELECT * \\\n",
    "    FROM gaiadr2.gaia_source \\\n",
    "    WHERE parallax >= 10 AND ra >= \"+str(i)+\" AND ra < \"+str(i+1)+\";\" , \n",
    "                                dump_to_file=True,output_file='100pc_'+str(i).zfill(3)+'.vot')\n",
    "\n",
    "print (job)\n",
    "\n",
    "t2 = datetime.datetime.now()\n",
    "\n",
    "print('Time elapsed: ',t2-t1)"
   ]
  }
 ],
 "metadata": {
  "kernelspec": {
   "display_name": "Python 3",
   "language": "python",
   "name": "python3"
  },
  "language_info": {
   "codemirror_mode": {
    "name": "ipython",
    "version": 3
   },
   "file_extension": ".py",
   "mimetype": "text/x-python",
   "name": "python",
   "nbconvert_exporter": "python",
   "pygments_lexer": "ipython3",
   "version": "3.6.5"
  }
 },
 "nbformat": 4,
 "nbformat_minor": 2
}
